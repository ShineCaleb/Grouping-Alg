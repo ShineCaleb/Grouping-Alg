{
 "cells": [
  {
   "cell_type": "markdown",
   "id": "10107321",
   "metadata": {},
   "source": [
    "# K- Nearest Neighbours - Zoo"
   ]
  },
  {
   "cell_type": "markdown",
   "id": "15ff7d44",
   "metadata": {},
   "source": [
    "#### Implement a KNN model to classify the animals in to categories"
   ]
  },
  {
   "cell_type": "markdown",
   "id": "f2c51c7c",
   "metadata": {},
   "source": [
    "## Importing Necessary Libraries"
   ]
  },
  {
   "cell_type": "code",
   "execution_count": 2,
   "id": "ebca3f54",
   "metadata": {},
   "outputs": [],
   "source": [
    "import pandas as pd\n",
    "import numpy as np\n",
    "import matplotlib.pyplot as plt\n",
    "import seaborn as sns\n",
    "\n",
    "from sklearn.model_selection import KFold\n",
    "from sklearn.model_selection import LeaveOneOut\n",
    "from sklearn.model_selection import cross_val_score\n",
    "from sklearn.neighbors import KNeighborsClassifier\n",
    "from sklearn.preprocessing import StandardScaler\n",
    "from sklearn.neighbors import KNeighborsClassifier\n",
    "from sklearn.model_selection import GridSearchCV\n",
    "\n",
    "import warnings\n",
    "warnings.filterwarnings('ignore')"
   ]
  },
  {
   "cell_type": "markdown",
   "id": "24210022",
   "metadata": {},
   "source": [
    "## Import Data"
   ]
  },
  {
   "cell_type": "code",
   "execution_count": 11,
   "id": "8bad31af",
   "metadata": {},
   "outputs": [],
   "source": [
    "Zoo_Data=pd.read_csv(\"C:\\\\ExcelR\\\\Assignments\\\\KNN\\\\Zoo.csv\")"
   ]
  },
  {
   "cell_type": "code",
   "execution_count": 12,
   "id": "78542c7d",
   "metadata": {},
   "outputs": [
    {
     "data": {
      "text/html": [
       "<div>\n",
       "<style scoped>\n",
       "    .dataframe tbody tr th:only-of-type {\n",
       "        vertical-align: middle;\n",
       "    }\n",
       "\n",
       "    .dataframe tbody tr th {\n",
       "        vertical-align: top;\n",
       "    }\n",
       "\n",
       "    .dataframe thead th {\n",
       "        text-align: right;\n",
       "    }\n",
       "</style>\n",
       "<table border=\"1\" class=\"dataframe\">\n",
       "  <thead>\n",
       "    <tr style=\"text-align: right;\">\n",
       "      <th></th>\n",
       "      <th>animal name</th>\n",
       "      <th>hair</th>\n",
       "      <th>feathers</th>\n",
       "      <th>eggs</th>\n",
       "      <th>milk</th>\n",
       "      <th>airborne</th>\n",
       "      <th>aquatic</th>\n",
       "      <th>predator</th>\n",
       "      <th>toothed</th>\n",
       "      <th>backbone</th>\n",
       "      <th>breathes</th>\n",
       "      <th>venomous</th>\n",
       "      <th>fins</th>\n",
       "      <th>legs</th>\n",
       "      <th>tail</th>\n",
       "      <th>domestic</th>\n",
       "      <th>catsize</th>\n",
       "      <th>type</th>\n",
       "    </tr>\n",
       "  </thead>\n",
       "  <tbody>\n",
       "    <tr>\n",
       "      <th>0</th>\n",
       "      <td>aardvark</td>\n",
       "      <td>1</td>\n",
       "      <td>0</td>\n",
       "      <td>0</td>\n",
       "      <td>1</td>\n",
       "      <td>0</td>\n",
       "      <td>0</td>\n",
       "      <td>1</td>\n",
       "      <td>1</td>\n",
       "      <td>1</td>\n",
       "      <td>1</td>\n",
       "      <td>0</td>\n",
       "      <td>0</td>\n",
       "      <td>4</td>\n",
       "      <td>0</td>\n",
       "      <td>0</td>\n",
       "      <td>1</td>\n",
       "      <td>1</td>\n",
       "    </tr>\n",
       "    <tr>\n",
       "      <th>1</th>\n",
       "      <td>antelope</td>\n",
       "      <td>1</td>\n",
       "      <td>0</td>\n",
       "      <td>0</td>\n",
       "      <td>1</td>\n",
       "      <td>0</td>\n",
       "      <td>0</td>\n",
       "      <td>0</td>\n",
       "      <td>1</td>\n",
       "      <td>1</td>\n",
       "      <td>1</td>\n",
       "      <td>0</td>\n",
       "      <td>0</td>\n",
       "      <td>4</td>\n",
       "      <td>1</td>\n",
       "      <td>0</td>\n",
       "      <td>1</td>\n",
       "      <td>1</td>\n",
       "    </tr>\n",
       "    <tr>\n",
       "      <th>2</th>\n",
       "      <td>bass</td>\n",
       "      <td>0</td>\n",
       "      <td>0</td>\n",
       "      <td>1</td>\n",
       "      <td>0</td>\n",
       "      <td>0</td>\n",
       "      <td>1</td>\n",
       "      <td>1</td>\n",
       "      <td>1</td>\n",
       "      <td>1</td>\n",
       "      <td>0</td>\n",
       "      <td>0</td>\n",
       "      <td>1</td>\n",
       "      <td>0</td>\n",
       "      <td>1</td>\n",
       "      <td>0</td>\n",
       "      <td>0</td>\n",
       "      <td>4</td>\n",
       "    </tr>\n",
       "    <tr>\n",
       "      <th>3</th>\n",
       "      <td>bear</td>\n",
       "      <td>1</td>\n",
       "      <td>0</td>\n",
       "      <td>0</td>\n",
       "      <td>1</td>\n",
       "      <td>0</td>\n",
       "      <td>0</td>\n",
       "      <td>1</td>\n",
       "      <td>1</td>\n",
       "      <td>1</td>\n",
       "      <td>1</td>\n",
       "      <td>0</td>\n",
       "      <td>0</td>\n",
       "      <td>4</td>\n",
       "      <td>0</td>\n",
       "      <td>0</td>\n",
       "      <td>1</td>\n",
       "      <td>1</td>\n",
       "    </tr>\n",
       "    <tr>\n",
       "      <th>4</th>\n",
       "      <td>boar</td>\n",
       "      <td>1</td>\n",
       "      <td>0</td>\n",
       "      <td>0</td>\n",
       "      <td>1</td>\n",
       "      <td>0</td>\n",
       "      <td>0</td>\n",
       "      <td>1</td>\n",
       "      <td>1</td>\n",
       "      <td>1</td>\n",
       "      <td>1</td>\n",
       "      <td>0</td>\n",
       "      <td>0</td>\n",
       "      <td>4</td>\n",
       "      <td>1</td>\n",
       "      <td>0</td>\n",
       "      <td>1</td>\n",
       "      <td>1</td>\n",
       "    </tr>\n",
       "  </tbody>\n",
       "</table>\n",
       "</div>"
      ],
      "text/plain": [
       "  animal name  hair  feathers  eggs  milk  airborne  aquatic  predator  \\\n",
       "0    aardvark     1         0     0     1         0        0         1   \n",
       "1    antelope     1         0     0     1         0        0         0   \n",
       "2        bass     0         0     1     0         0        1         1   \n",
       "3        bear     1         0     0     1         0        0         1   \n",
       "4        boar     1         0     0     1         0        0         1   \n",
       "\n",
       "   toothed  backbone  breathes  venomous  fins  legs  tail  domestic  catsize  \\\n",
       "0        1         1         1         0     0     4     0         0        1   \n",
       "1        1         1         1         0     0     4     1         0        1   \n",
       "2        1         1         0         0     1     0     1         0        0   \n",
       "3        1         1         1         0     0     4     0         0        1   \n",
       "4        1         1         1         0     0     4     1         0        1   \n",
       "\n",
       "   type  \n",
       "0     1  \n",
       "1     1  \n",
       "2     4  \n",
       "3     1  \n",
       "4     1  "
      ]
     },
     "execution_count": 12,
     "metadata": {},
     "output_type": "execute_result"
    }
   ],
   "source": [
    "Zoo_Data.head()"
   ]
  },
  {
   "cell_type": "markdown",
   "id": "2476ba89",
   "metadata": {},
   "source": [
    "## Data Understanding"
   ]
  },
  {
   "cell_type": "code",
   "execution_count": 13,
   "id": "343fcc49",
   "metadata": {},
   "outputs": [
    {
     "name": "stdout",
     "output_type": "stream",
     "text": [
      "<class 'pandas.core.frame.DataFrame'>\n",
      "RangeIndex: 101 entries, 0 to 100\n",
      "Data columns (total 18 columns):\n",
      " #   Column       Non-Null Count  Dtype \n",
      "---  ------       --------------  ----- \n",
      " 0   animal name  101 non-null    object\n",
      " 1   hair         101 non-null    int64 \n",
      " 2   feathers     101 non-null    int64 \n",
      " 3   eggs         101 non-null    int64 \n",
      " 4   milk         101 non-null    int64 \n",
      " 5   airborne     101 non-null    int64 \n",
      " 6   aquatic      101 non-null    int64 \n",
      " 7   predator     101 non-null    int64 \n",
      " 8   toothed      101 non-null    int64 \n",
      " 9   backbone     101 non-null    int64 \n",
      " 10  breathes     101 non-null    int64 \n",
      " 11  venomous     101 non-null    int64 \n",
      " 12  fins         101 non-null    int64 \n",
      " 13  legs         101 non-null    int64 \n",
      " 14  tail         101 non-null    int64 \n",
      " 15  domestic     101 non-null    int64 \n",
      " 16  catsize      101 non-null    int64 \n",
      " 17  type         101 non-null    int64 \n",
      "dtypes: int64(17), object(1)\n",
      "memory usage: 14.3+ KB\n"
     ]
    }
   ],
   "source": [
    "Zoo_Data.info()"
   ]
  },
  {
   "cell_type": "code",
   "execution_count": 14,
   "id": "7b72f22d",
   "metadata": {},
   "outputs": [
    {
     "data": {
      "text/plain": [
       "(101, 18)"
      ]
     },
     "execution_count": 14,
     "metadata": {},
     "output_type": "execute_result"
    }
   ],
   "source": [
    "Zoo_Data.shape"
   ]
  },
  {
   "cell_type": "markdown",
   "id": "cafb4d2b",
   "metadata": {},
   "source": [
    "#### * No null entries found\n",
    "#### * All Data points are either int or float"
   ]
  },
  {
   "cell_type": "markdown",
   "id": "0da004f2",
   "metadata": {},
   "source": [
    "## Seaparating Dependant and independant variables"
   ]
  },
  {
   "cell_type": "code",
   "execution_count": 15,
   "id": "a2f31453",
   "metadata": {},
   "outputs": [],
   "source": [
    "Ind_Var=Zoo_Data.drop([\"type\",\"animal name\"],axis=1)\n",
    "y=Zoo_Data[\"type\"]"
   ]
  },
  {
   "cell_type": "code",
   "execution_count": 36,
   "id": "8f6f56cd",
   "metadata": {},
   "outputs": [
    {
     "data": {
      "text/plain": [
       "1    41\n",
       "2    20\n",
       "4    13\n",
       "7    10\n",
       "6     8\n",
       "3     5\n",
       "5     4\n",
       "Name: type, dtype: int64"
      ]
     },
     "execution_count": 36,
     "metadata": {},
     "output_type": "execute_result"
    }
   ],
   "source": [
    "y.value_counts()"
   ]
  },
  {
   "cell_type": "code",
   "execution_count": 57,
   "id": "029e3496",
   "metadata": {},
   "outputs": [
    {
     "data": {
      "image/png": "[encoded data removed]",
      "text/plain": [
       "<Figure size 576x360 with 1 Axes>"
      ]
     },
     "metadata": {},
     "output_type": "display_data"
    }
   ],
   "source": [
    "plt.figure(figsize=(8,5))\n",
    "plt.pie(x=y.value_counts(),labels=[1,2,4,7,6,3,5],explode=[0,0,0.05,0.04,0.03,0.1,0.1],shadow=True)\n",
    "plt.show()"
   ]
  },
  {
   "cell_type": "markdown",
   "id": "e876aaa6",
   "metadata": {},
   "source": [
    "## Data preprocessing"
   ]
  },
  {
   "cell_type": "code",
   "execution_count": 16,
   "id": "2ca2b5ba",
   "metadata": {},
   "outputs": [],
   "source": [
    "Standard_Scalar=StandardScaler()"
   ]
  },
  {
   "cell_type": "code",
   "execution_count": 17,
   "id": "46834bef",
   "metadata": {},
   "outputs": [],
   "source": [
    "X=pd.DataFrame(Standard_Scalar.fit_transform(Ind_Var))"
   ]
  },
  {
   "cell_type": "code",
   "execution_count": 18,
   "id": "562c182c",
   "metadata": {},
   "outputs": [
    {
     "data": {
      "text/html": [
       "<div>\n",
       "<style scoped>\n",
       "    .dataframe tbody tr th:only-of-type {\n",
       "        vertical-align: middle;\n",
       "    }\n",
       "\n",
       "    .dataframe tbody tr th {\n",
       "        vertical-align: top;\n",
       "    }\n",
       "\n",
       "    .dataframe thead th {\n",
       "        text-align: right;\n",
       "    }\n",
       "</style>\n",
       "<table border=\"1\" class=\"dataframe\">\n",
       "  <thead>\n",
       "    <tr style=\"text-align: right;\">\n",
       "      <th></th>\n",
       "      <th>0</th>\n",
       "      <th>1</th>\n",
       "      <th>2</th>\n",
       "      <th>3</th>\n",
       "      <th>4</th>\n",
       "      <th>5</th>\n",
       "      <th>6</th>\n",
       "      <th>7</th>\n",
       "      <th>8</th>\n",
       "      <th>9</th>\n",
       "      <th>10</th>\n",
       "      <th>11</th>\n",
       "      <th>12</th>\n",
       "      <th>13</th>\n",
       "      <th>14</th>\n",
       "      <th>15</th>\n",
       "    </tr>\n",
       "  </thead>\n",
       "  <tbody>\n",
       "    <tr>\n",
       "      <th>0</th>\n",
       "      <td>1.161395</td>\n",
       "      <td>-0.496904</td>\n",
       "      <td>-1.185227</td>\n",
       "      <td>1.209717</td>\n",
       "      <td>-0.558291</td>\n",
       "      <td>-0.744208</td>\n",
       "      <td>0.896421</td>\n",
       "      <td>0.809776</td>\n",
       "      <td>0.46569</td>\n",
       "      <td>0.512348</td>\n",
       "      <td>-0.293294</td>\n",
       "      <td>-0.449868</td>\n",
       "      <td>0.572540</td>\n",
       "      <td>-1.698416</td>\n",
       "      <td>-0.384353</td>\n",
       "      <td>1.138180</td>\n",
       "    </tr>\n",
       "    <tr>\n",
       "      <th>1</th>\n",
       "      <td>1.161395</td>\n",
       "      <td>-0.496904</td>\n",
       "      <td>-1.185227</td>\n",
       "      <td>1.209717</td>\n",
       "      <td>-0.558291</td>\n",
       "      <td>-0.744208</td>\n",
       "      <td>-1.115547</td>\n",
       "      <td>0.809776</td>\n",
       "      <td>0.46569</td>\n",
       "      <td>0.512348</td>\n",
       "      <td>-0.293294</td>\n",
       "      <td>-0.449868</td>\n",
       "      <td>0.572540</td>\n",
       "      <td>0.588784</td>\n",
       "      <td>-0.384353</td>\n",
       "      <td>1.138180</td>\n",
       "    </tr>\n",
       "    <tr>\n",
       "      <th>2</th>\n",
       "      <td>-0.861034</td>\n",
       "      <td>-0.496904</td>\n",
       "      <td>0.843721</td>\n",
       "      <td>-0.826640</td>\n",
       "      <td>-0.558291</td>\n",
       "      <td>1.343710</td>\n",
       "      <td>0.896421</td>\n",
       "      <td>0.809776</td>\n",
       "      <td>0.46569</td>\n",
       "      <td>-1.951800</td>\n",
       "      <td>-0.293294</td>\n",
       "      <td>2.222876</td>\n",
       "      <td>-1.404435</td>\n",
       "      <td>0.588784</td>\n",
       "      <td>-0.384353</td>\n",
       "      <td>-0.878595</td>\n",
       "    </tr>\n",
       "    <tr>\n",
       "      <th>3</th>\n",
       "      <td>1.161395</td>\n",
       "      <td>-0.496904</td>\n",
       "      <td>-1.185227</td>\n",
       "      <td>1.209717</td>\n",
       "      <td>-0.558291</td>\n",
       "      <td>-0.744208</td>\n",
       "      <td>0.896421</td>\n",
       "      <td>0.809776</td>\n",
       "      <td>0.46569</td>\n",
       "      <td>0.512348</td>\n",
       "      <td>-0.293294</td>\n",
       "      <td>-0.449868</td>\n",
       "      <td>0.572540</td>\n",
       "      <td>-1.698416</td>\n",
       "      <td>-0.384353</td>\n",
       "      <td>1.138180</td>\n",
       "    </tr>\n",
       "    <tr>\n",
       "      <th>4</th>\n",
       "      <td>1.161395</td>\n",
       "      <td>-0.496904</td>\n",
       "      <td>-1.185227</td>\n",
       "      <td>1.209717</td>\n",
       "      <td>-0.558291</td>\n",
       "      <td>-0.744208</td>\n",
       "      <td>0.896421</td>\n",
       "      <td>0.809776</td>\n",
       "      <td>0.46569</td>\n",
       "      <td>0.512348</td>\n",
       "      <td>-0.293294</td>\n",
       "      <td>-0.449868</td>\n",
       "      <td>0.572540</td>\n",
       "      <td>0.588784</td>\n",
       "      <td>-0.384353</td>\n",
       "      <td>1.138180</td>\n",
       "    </tr>\n",
       "  </tbody>\n",
       "</table>\n",
       "</div>"
      ],
      "text/plain": [
       "         0         1         2         3         4         5         6   \\\n",
       "0  1.161395 -0.496904 -1.185227  1.209717 -0.558291 -0.744208  0.896421   \n",
       "1  1.161395 -0.496904 -1.185227  1.209717 -0.558291 -0.744208 -1.115547   \n",
       "2 -0.861034 -0.496904  0.843721 -0.826640 -0.558291  1.343710  0.896421   \n",
       "3  1.161395 -0.496904 -1.185227  1.209717 -0.558291 -0.744208  0.896421   \n",
       "4  1.161395 -0.496904 -1.185227  1.209717 -0.558291 -0.744208  0.896421   \n",
       "\n",
       "         7        8         9         10        11        12        13  \\\n",
       "0  0.809776  0.46569  0.512348 -0.293294 -0.449868  0.572540 -1.698416   \n",
       "1  0.809776  0.46569  0.512348 -0.293294 -0.449868  0.572540  0.588784   \n",
       "2  0.809776  0.46569 -1.951800 -0.293294  2.222876 -1.404435  0.588784   \n",
       "3  0.809776  0.46569  0.512348 -0.293294 -0.449868  0.572540 -1.698416   \n",
       "4  0.809776  0.46569  0.512348 -0.293294 -0.449868  0.572540  0.588784   \n",
       "\n",
       "         14        15  \n",
       "0 -0.384353  1.138180  \n",
       "1 -0.384353  1.138180  \n",
       "2 -0.384353 -0.878595  \n",
       "3 -0.384353  1.138180  \n",
       "4 -0.384353  1.138180  "
      ]
     },
     "execution_count": 18,
     "metadata": {},
     "output_type": "execute_result"
    }
   ],
   "source": [
    "X.head()"
   ]
  },
  {
   "cell_type": "code",
   "execution_count": 21,
   "id": "fd99331f",
   "metadata": {},
   "outputs": [
    {
     "data": {
      "text/html": [
       "<div>\n",
       "<style scoped>\n",
       "    .dataframe tbody tr th:only-of-type {\n",
       "        vertical-align: middle;\n",
       "    }\n",
       "\n",
       "    .dataframe tbody tr th {\n",
       "        vertical-align: top;\n",
       "    }\n",
       "\n",
       "    .dataframe thead th {\n",
       "        text-align: right;\n",
       "    }\n",
       "</style>\n",
       "<table border=\"1\" class=\"dataframe\">\n",
       "  <thead>\n",
       "    <tr style=\"text-align: right;\">\n",
       "      <th></th>\n",
       "      <th>hair</th>\n",
       "      <th>feathers</th>\n",
       "      <th>eggs</th>\n",
       "      <th>milk</th>\n",
       "      <th>airborne</th>\n",
       "      <th>aquatic</th>\n",
       "      <th>predator</th>\n",
       "      <th>toothed</th>\n",
       "      <th>backbone</th>\n",
       "      <th>breathes</th>\n",
       "      <th>venomous</th>\n",
       "      <th>fins</th>\n",
       "      <th>legs</th>\n",
       "      <th>tail</th>\n",
       "      <th>domestic</th>\n",
       "      <th>catsize</th>\n",
       "    </tr>\n",
       "  </thead>\n",
       "  <tbody>\n",
       "    <tr>\n",
       "      <th>0</th>\n",
       "      <td>1.161395</td>\n",
       "      <td>-0.496904</td>\n",
       "      <td>-1.185227</td>\n",
       "      <td>1.209717</td>\n",
       "      <td>-0.558291</td>\n",
       "      <td>-0.744208</td>\n",
       "      <td>0.896421</td>\n",
       "      <td>0.809776</td>\n",
       "      <td>0.46569</td>\n",
       "      <td>0.512348</td>\n",
       "      <td>-0.293294</td>\n",
       "      <td>-0.449868</td>\n",
       "      <td>0.572540</td>\n",
       "      <td>-1.698416</td>\n",
       "      <td>-0.384353</td>\n",
       "      <td>1.138180</td>\n",
       "    </tr>\n",
       "    <tr>\n",
       "      <th>1</th>\n",
       "      <td>1.161395</td>\n",
       "      <td>-0.496904</td>\n",
       "      <td>-1.185227</td>\n",
       "      <td>1.209717</td>\n",
       "      <td>-0.558291</td>\n",
       "      <td>-0.744208</td>\n",
       "      <td>-1.115547</td>\n",
       "      <td>0.809776</td>\n",
       "      <td>0.46569</td>\n",
       "      <td>0.512348</td>\n",
       "      <td>-0.293294</td>\n",
       "      <td>-0.449868</td>\n",
       "      <td>0.572540</td>\n",
       "      <td>0.588784</td>\n",
       "      <td>-0.384353</td>\n",
       "      <td>1.138180</td>\n",
       "    </tr>\n",
       "    <tr>\n",
       "      <th>2</th>\n",
       "      <td>-0.861034</td>\n",
       "      <td>-0.496904</td>\n",
       "      <td>0.843721</td>\n",
       "      <td>-0.826640</td>\n",
       "      <td>-0.558291</td>\n",
       "      <td>1.343710</td>\n",
       "      <td>0.896421</td>\n",
       "      <td>0.809776</td>\n",
       "      <td>0.46569</td>\n",
       "      <td>-1.951800</td>\n",
       "      <td>-0.293294</td>\n",
       "      <td>2.222876</td>\n",
       "      <td>-1.404435</td>\n",
       "      <td>0.588784</td>\n",
       "      <td>-0.384353</td>\n",
       "      <td>-0.878595</td>\n",
       "    </tr>\n",
       "    <tr>\n",
       "      <th>3</th>\n",
       "      <td>1.161395</td>\n",
       "      <td>-0.496904</td>\n",
       "      <td>-1.185227</td>\n",
       "      <td>1.209717</td>\n",
       "      <td>-0.558291</td>\n",
       "      <td>-0.744208</td>\n",
       "      <td>0.896421</td>\n",
       "      <td>0.809776</td>\n",
       "      <td>0.46569</td>\n",
       "      <td>0.512348</td>\n",
       "      <td>-0.293294</td>\n",
       "      <td>-0.449868</td>\n",
       "      <td>0.572540</td>\n",
       "      <td>-1.698416</td>\n",
       "      <td>-0.384353</td>\n",
       "      <td>1.138180</td>\n",
       "    </tr>\n",
       "    <tr>\n",
       "      <th>4</th>\n",
       "      <td>1.161395</td>\n",
       "      <td>-0.496904</td>\n",
       "      <td>-1.185227</td>\n",
       "      <td>1.209717</td>\n",
       "      <td>-0.558291</td>\n",
       "      <td>-0.744208</td>\n",
       "      <td>0.896421</td>\n",
       "      <td>0.809776</td>\n",
       "      <td>0.46569</td>\n",
       "      <td>0.512348</td>\n",
       "      <td>-0.293294</td>\n",
       "      <td>-0.449868</td>\n",
       "      <td>0.572540</td>\n",
       "      <td>0.588784</td>\n",
       "      <td>-0.384353</td>\n",
       "      <td>1.138180</td>\n",
       "    </tr>\n",
       "  </tbody>\n",
       "</table>\n",
       "</div>"
      ],
      "text/plain": [
       "       hair  feathers      eggs      milk  airborne   aquatic  predator  \\\n",
       "0  1.161395 -0.496904 -1.185227  1.209717 -0.558291 -0.744208  0.896421   \n",
       "1  1.161395 -0.496904 -1.185227  1.209717 -0.558291 -0.744208 -1.115547   \n",
       "2 -0.861034 -0.496904  0.843721 -0.826640 -0.558291  1.343710  0.896421   \n",
       "3  1.161395 -0.496904 -1.185227  1.209717 -0.558291 -0.744208  0.896421   \n",
       "4  1.161395 -0.496904 -1.185227  1.209717 -0.558291 -0.744208  0.896421   \n",
       "\n",
       "    toothed  backbone  breathes  venomous      fins      legs      tail  \\\n",
       "0  0.809776   0.46569  0.512348 -0.293294 -0.449868  0.572540 -1.698416   \n",
       "1  0.809776   0.46569  0.512348 -0.293294 -0.449868  0.572540  0.588784   \n",
       "2  0.809776   0.46569 -1.951800 -0.293294  2.222876 -1.404435  0.588784   \n",
       "3  0.809776   0.46569  0.512348 -0.293294 -0.449868  0.572540 -1.698416   \n",
       "4  0.809776   0.46569  0.512348 -0.293294 -0.449868  0.572540  0.588784   \n",
       "\n",
       "   domestic   catsize  \n",
       "0 -0.384353  1.138180  \n",
       "1 -0.384353  1.138180  \n",
       "2 -0.384353 -0.878595  \n",
       "3 -0.384353  1.138180  \n",
       "4 -0.384353  1.138180  "
      ]
     },
     "execution_count": 21,
     "metadata": {},
     "output_type": "execute_result"
    }
   ],
   "source": [
    "X.columns=Ind_Var.columns\n",
    "X.head()"
   ]
  },
  {
   "cell_type": "markdown",
   "id": "27df67e7",
   "metadata": {},
   "source": [
    "## Model Building || Model Training || Model Testing"
   ]
  },
  {
   "cell_type": "code",
   "execution_count": 22,
   "id": "ad2892e1",
   "metadata": {},
   "outputs": [
    {
     "data": {
      "text/plain": [
       "((80, 16), (80,), (21, 16), (21,))"
      ]
     },
     "execution_count": 22,
     "metadata": {},
     "output_type": "execute_result"
    }
   ],
   "source": [
    "from sklearn.model_selection import train_test_split\n",
    "\n",
    "X_train,X_test,y_train,y_test = train_test_split(X,y,test_size=0.20,random_state= 12,stratify=y)\n",
    "X_train.shape,y_train.shape,X_test.shape,y_test.shape"
   ]
  },
  {
   "cell_type": "markdown",
   "id": "a87e67c2",
   "metadata": {},
   "source": [
    "## Generating a Model with K = 3"
   ]
  },
  {
   "cell_type": "code",
   "execution_count": 23,
   "id": "fea6e09b",
   "metadata": {},
   "outputs": [
    {
     "name": "stdout",
     "output_type": "stream",
     "text": [
      "Accuracy score:  0.9524\n"
     ]
    }
   ],
   "source": [
    "from sklearn.metrics import accuracy_score\n",
    "\n",
    "Knn_model_3 = KNeighborsClassifier(n_neighbors=3)\n",
    "Knn_model_3.fit(X_train,y_train)\n",
    "y_pred = Knn_model_3.predict(X_test)\n",
    "\n",
    "print(\"Accuracy score: \", round(accuracy_score(y_test,y_pred),4))"
   ]
  },
  {
   "cell_type": "markdown",
   "id": "71af266c",
   "metadata": {},
   "source": [
    "## Model Optimization"
   ]
  },
  {
   "cell_type": "markdown",
   "id": "4b3203ea",
   "metadata": {},
   "source": [
    "### Grid Search CV"
   ]
  },
  {
   "cell_type": "code",
   "execution_count": 27,
   "id": "8b58e28c",
   "metadata": {},
   "outputs": [
    {
     "data": {
      "text/plain": [
       "{'n_neighbors': array([ 1,  2,  3,  4,  5,  6,  7,  8,  9, 10, 11, 12, 13, 14])}"
      ]
     },
     "execution_count": 27,
     "metadata": {},
     "output_type": "execute_result"
    }
   ],
   "source": [
    "n_neighbors = np.array(range(1,15))\n",
    "param_grid = dict(n_neighbors=n_neighbors)\n",
    "param_grid"
   ]
  },
  {
   "cell_type": "code",
   "execution_count": 28,
   "id": "5789ade5",
   "metadata": {},
   "outputs": [
    {
     "data": {
      "text/html": [
       "<style>#sk-container-id-1 {color: black;background-color: white;}#sk-container-id-1 pre{padding: 0;}#sk-container-id-1 div.sk-toggleable {background-color: white;}#sk-container-id-1 label.sk-toggleable__label {cursor: pointer;display: block;width: 100%;margin-bottom: 0;padding: 0.3em;box-sizing: border-box;text-align: center;}#sk-container-id-1 label.sk-toggleable__label-arrow:before {content: \"▸\";float: left;margin-right: 0.25em;color: #696969;}#sk-container-id-1 label.sk-toggleable__label-arrow:hover:before {color: black;}#sk-container-id-1 div.sk-estimator:hover label.sk-toggleable__label-arrow:before {color: black;}#sk-container-id-1 div.sk-toggleable__content {max-height: 0;max-width: 0;overflow: hidden;text-align: left;background-color: #f0f8ff;}#sk-container-id-1 div.sk-toggleable__content pre {margin: 0.2em;color: black;border-radius: 0.25em;background-color: #f0f8ff;}#sk-container-id-1 input.sk-toggleable__control:checked~div.sk-toggleable__content {max-height: 200px;max-width: 100%;overflow: auto;}#sk-container-id-1 input.sk-toggleable__control:checked~label.sk-toggleable__label-arrow:before {content: \"▾\";}#sk-container-id-1 div.sk-estimator input.sk-toggleable__control:checked~label.sk-toggleable__label {background-color: #d4ebff;}#sk-container-id-1 div.sk-label input.sk-toggleable__control:checked~label.sk-toggleable__label {background-color: #d4ebff;}#sk-container-id-1 input.sk-hidden--visually {border: 0;clip: rect(1px 1px 1px 1px);clip: rect(1px, 1px, 1px, 1px);height: 1px;margin: -1px;overflow: hidden;padding: 0;position: absolute;width: 1px;}#sk-container-id-1 div.sk-estimator {font-family: monospace;background-color: #f0f8ff;border: 1px dotted black;border-radius: 0.25em;box-sizing: border-box;margin-bottom: 0.5em;}#sk-container-id-1 div.sk-estimator:hover {background-color: #d4ebff;}#sk-container-id-1 div.sk-parallel-item::after {content: \"\";width: 100%;border-bottom: 1px solid gray;flex-grow: 1;}#sk-container-id-1 div.sk-label:hover label.sk-toggleable__label {background-color: #d4ebff;}#sk-container-id-1 div.sk-serial::before {content: \"\";position: absolute;border-left: 1px solid gray;box-sizing: border-box;top: 0;bottom: 0;left: 50%;z-index: 0;}#sk-container-id-1 div.sk-serial {display: flex;flex-direction: column;align-items: center;background-color: white;padding-right: 0.2em;padding-left: 0.2em;position: relative;}#sk-container-id-1 div.sk-item {position: relative;z-index: 1;}#sk-container-id-1 div.sk-parallel {display: flex;align-items: stretch;justify-content: center;background-color: white;position: relative;}#sk-container-id-1 div.sk-item::before, #sk-container-id-1 div.sk-parallel-item::before {content: \"\";position: absolute;border-left: 1px solid gray;box-sizing: border-box;top: 0;bottom: 0;left: 50%;z-index: -1;}#sk-container-id-1 div.sk-parallel-item {display: flex;flex-direction: column;z-index: 1;position: relative;background-color: white;}#sk-container-id-1 div.sk-parallel-item:first-child::after {align-self: flex-end;width: 50%;}#sk-container-id-1 div.sk-parallel-item:last-child::after {align-self: flex-start;width: 50%;}#sk-container-id-1 div.sk-parallel-item:only-child::after {width: 0;}#sk-container-id-1 div.sk-dashed-wrapped {border: 1px dashed gray;margin: 0 0.4em 0.5em 0.4em;box-sizing: border-box;padding-bottom: 0.4em;background-color: white;}#sk-container-id-1 div.sk-label label {font-family: monospace;font-weight: bold;display: inline-block;line-height: 1.2em;}#sk-container-id-1 div.sk-label-container {text-align: center;}#sk-container-id-1 div.sk-container {/* jupyter's `normalize.less` sets `[hidden] { display: none; }` but bootstrap.min.css set `[hidden] { display: none !important; }` so we also need the `!important` here to be able to override the default hidden behavior on the sphinx rendered scikit-learn.org. See: https://github.com/scikit-learn/scikit-learn/issues/21755 */display: inline-block !important;position: relative;}#sk-container-id-1 div.sk-text-repr-fallback {display: none;}</style><div id=\"sk-container-id-1\" class=\"sk-top-container\"><div class=\"sk-text-repr-fallback\"><pre>GridSearchCV(cv=LeaveOneOut(), estimator=KNeighborsClassifier(),\n",
       "             param_grid={&#x27;n_neighbors&#x27;: array([ 1,  2,  3,  4,  5,  6,  7,  8,  9, 10, 11, 12, 13, 14])})</pre><b>In a Jupyter environment, please rerun this cell to show the HTML representation or trust the notebook. <br />On GitHub, the HTML representation is unable to render, please try loading this page with nbviewer.org.</b></div><div class=\"sk-container\" hidden><div class=\"sk-item sk-dashed-wrapped\"><div class=\"sk-label-container\"><div class=\"sk-label sk-toggleable\"><input class=\"sk-toggleable__control sk-hidden--visually\" id=\"sk-estimator-id-1\" type=\"checkbox\" ><label for=\"sk-estimator-id-1\" class=\"sk-toggleable__label sk-toggleable__label-arrow\">GridSearchCV</label><div class=\"sk-toggleable__content\"><pre>GridSearchCV(cv=LeaveOneOut(), estimator=KNeighborsClassifier(),\n",
       "             param_grid={&#x27;n_neighbors&#x27;: array([ 1,  2,  3,  4,  5,  6,  7,  8,  9, 10, 11, 12, 13, 14])})</pre></div></div></div><div class=\"sk-parallel\"><div class=\"sk-parallel-item\"><div class=\"sk-item\"><div class=\"sk-label-container\"><div class=\"sk-label sk-toggleable\"><input class=\"sk-toggleable__control sk-hidden--visually\" id=\"sk-estimator-id-2\" type=\"checkbox\" ><label for=\"sk-estimator-id-2\" class=\"sk-toggleable__label sk-toggleable__label-arrow\">estimator: KNeighborsClassifier</label><div class=\"sk-toggleable__content\"><pre>KNeighborsClassifier()</pre></div></div></div><div class=\"sk-serial\"><div class=\"sk-item\"><div class=\"sk-estimator sk-toggleable\"><input class=\"sk-toggleable__control sk-hidden--visually\" id=\"sk-estimator-id-3\" type=\"checkbox\" ><label for=\"sk-estimator-id-3\" class=\"sk-toggleable__label sk-toggleable__label-arrow\">KNeighborsClassifier</label><div class=\"sk-toggleable__content\"><pre>KNeighborsClassifier()</pre></div></div></div></div></div></div></div></div></div></div>"
      ],
      "text/plain": [
       "GridSearchCV(cv=LeaveOneOut(), estimator=KNeighborsClassifier(),\n",
       "             param_grid={'n_neighbors': array([ 1,  2,  3,  4,  5,  6,  7,  8,  9, 10, 11, 12, 13, 14])})"
      ]
     },
     "execution_count": 28,
     "metadata": {},
     "output_type": "execute_result"
    }
   ],
   "source": [
    "loo=LeaveOneOut()\n",
    "\n",
    "KNN = KNeighborsClassifier()\n",
    "grid = GridSearchCV(estimator=KNN, param_grid=param_grid ,cv=loo)\n",
    "grid.fit(X,y)"
   ]
  },
  {
   "cell_type": "code",
   "execution_count": 29,
   "id": "c781dbe2",
   "metadata": {},
   "outputs": [
    {
     "name": "stdout",
     "output_type": "stream",
     "text": [
      "{'n_neighbors': 1} 0.9504950495049505\n"
     ]
    }
   ],
   "source": [
    "print(grid.best_params_,grid.best_score_)"
   ]
  },
  {
   "cell_type": "markdown",
   "id": "f2515711",
   "metadata": {},
   "source": [
    "### Since K=1 shows high accuracy we check for test data accuracy"
   ]
  },
  {
   "cell_type": "code",
   "execution_count": 30,
   "id": "627000e3",
   "metadata": {},
   "outputs": [
    {
     "name": "stdout",
     "output_type": "stream",
     "text": [
      "Accuracy score:  0.9524\n"
     ]
    }
   ],
   "source": [
    "from sklearn.metrics import accuracy_score\n",
    "\n",
    "Knn_model_1 = KNeighborsClassifier(n_neighbors=1)\n",
    "Knn_model_1.fit(X_train,y_train)\n",
    "y_pred = Knn_model_1.predict(X_test)\n",
    "\n",
    "print(\"Accuracy score: \", round(accuracy_score(y_test,y_pred),4))"
   ]
  },
  {
   "cell_type": "markdown",
   "id": "1cbd3b56",
   "metadata": {},
   "source": [
    "#### Since, there is no significant difference in the accuracy scores of train and test data, We can imply that there is no problem of overfitting in the model with value k=1."
   ]
  },
  {
   "cell_type": "code",
   "execution_count": 34,
   "id": "f70e26a8",
   "metadata": {},
   "outputs": [
    {
     "data": {
      "image/png": "[encoded data removed]",
      "text/plain": [
       "<Figure size 432x288 with 1 Axes>"
      ]
     },
     "metadata": {
      "needs_background": "light"
     },
     "output_type": "display_data"
    }
   ],
   "source": [
    "k_range=range(1,20)\n",
    "k_scores=[]\n",
    "\n",
    "for i in k_range:\n",
    "    model=KNeighborsClassifier(n_neighbors=i)\n",
    "    results=cross_val_score(model, X,y,cv=loo)\n",
    "    k_scores.append(results.mean())\n",
    "\n",
    "plt.plot(k_range,k_scores)\n",
    "plt.xlabel('Value of K for KNN')\n",
    "plt.ylabel('Cross-Validated Accuracy')\n",
    "plt.show()"
   ]
  },
  {
   "cell_type": "markdown",
   "id": "2ba15b32",
   "metadata": {},
   "source": [
    "### Model Knn_model_1 is chosen for deployment"
   ]
  }
 ],
 "metadata": {
  "kernelspec": {
   "display_name": "Python 3 (ipykernel)",
   "language": "python",
   "name": "python3"
  },
  "language_info": {
   "codemirror_mode": {
    "name": "ipython",
    "version": 3
   },
   "file_extension": ".py",
   "mimetype": "text/x-python",
   "name": "python",
   "nbconvert_exporter": "python",
   "pygments_lexer": "ipython3",
   "version": "3.9.12"
  }
 },
 "nbformat": 4,
 "nbformat_minor": 5
}
